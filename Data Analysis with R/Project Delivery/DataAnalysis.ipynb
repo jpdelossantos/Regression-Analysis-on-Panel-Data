{
 "cells": [
  {
   "cell_type": "code",
   "execution_count": 440,
   "metadata": {},
   "outputs": [],
   "source": [
    "import pandas as pd\n",
    "import numpy as np\n",
    "from sklearn import preprocessing\n",
    "\n",
    "\n",
    "df = pd.read_csv(\"combine.csv\")\n"
   ]
  },
  {
   "cell_type": "code",
   "execution_count": 441,
   "metadata": {},
   "outputs": [
    {
     "data": {
      "text/plain": [
       "(230072, 11)"
      ]
     },
     "execution_count": 441,
     "metadata": {},
     "output_type": "execute_result"
    }
   ],
   "source": [
    "df.shape"
   ]
  },
  {
   "cell_type": "code",
   "execution_count": 442,
   "metadata": {},
   "outputs": [
    {
     "data": {
      "text/plain": [
       "(230072, 11)"
      ]
     },
     "execution_count": 442,
     "metadata": {},
     "output_type": "execute_result"
    }
   ],
   "source": [
    "df.shape"
   ]
  },
  {
   "cell_type": "code",
   "execution_count": 443,
   "metadata": {},
   "outputs": [],
   "source": [
    "missing_values  = df['Donor'].count() - df['chn_aid'].count()"
   ]
  },
  {
   "cell_type": "code",
   "execution_count": 444,
   "metadata": {},
   "outputs": [
    {
     "data": {
      "text/plain": [
       "DAC Countries, Total    16304\n",
       "Japan                   13298\n",
       "France                  12884\n",
       "Germany                 12840\n",
       "United States           11456\n",
       "United Kingdom          11290\n",
       "Korea                   10846\n",
       "Canada                  10578\n",
       "Spain                   10036\n",
       "Austria                  9536\n",
       "Norway                   9094\n",
       "Italy                    8910\n",
       "Belgium                  8864\n",
       "Finland                  8334\n",
       "Switzerland              8310\n",
       "Sweden                   7990\n",
       "Australia                7876\n",
       "Greece                   7540\n",
       "Netherlands              6880\n",
       "Ireland                  6602\n",
       "New Zealand              6192\n",
       "Luxembourg               5486\n",
       "Denmark                  4644\n",
       "Portugal                 4344\n",
       "Czech Republic           1870\n",
       "United Arab Emirates     1726\n",
       "Turkey                   1424\n",
       "Israel                   1138\n",
       "Kuwait                   1068\n",
       "Poland                    888\n",
       "Slovak Republic           602\n",
       "Estonia                   310\n",
       "Slovenia                  298\n",
       "Iceland                   288\n",
       "Lithuania                 124\n",
       "Romania                    90\n",
       "Cyprus                     70\n",
       "Hungary                    26\n",
       "Timor-Leste                16\n",
       "Name: Donor, dtype: int64"
      ]
     },
     "execution_count": 444,
     "metadata": {},
     "output_type": "execute_result"
    }
   ],
   "source": [
    "df['Donor'].value_counts()"
   ]
  },
  {
   "cell_type": "code",
   "execution_count": 445,
   "metadata": {},
   "outputs": [
    {
     "data": {
      "image/png": "[encoded data removed]",
      "text/plain": [
       "<Figure size 576x396 with 1 Axes>"
      ]
     },
     "metadata": {},
     "output_type": "display_data"
    },
    {
     "data": {
      "text/plain": [
       "Donor\n",
       "DAC Countries, Total    4427751.70\n",
       "United States           1238943.75\n",
       "Japan                    823538.00\n",
       "Germany                  505973.05\n",
       "France                   457272.44\n",
       "United Kingdom           255781.58\n",
       "Australia                138588.31\n",
       "Canada                   119032.61\n",
       "Netherlands              116910.73\n",
       "Spain                    105517.53\n",
       "Name: Value, dtype: float64"
      ]
     },
     "execution_count": 445,
     "metadata": {},
     "output_type": "execute_result"
    }
   ],
   "source": [
    "#This chunk of code explains the biggest contributor and the graph depicts the same information visually.\n",
    "\n",
    "biggest_donors = df.groupby(['Donor']).sum()['Value'].sort_values(ascending = False)\n",
    "biggest_donors_index = df.groupby(['Donor']).mean()['Value'].sort_values(ascending = False).index[:5]\n",
    "biggest_donors_top_5  = biggest_donors.iloc[:5]\n",
    "biggest_donors_top_5  = list(biggest_donors_top_5)\n",
    "plt.bar(biggest_donors_index, biggest_donors_top_5)\n",
    "plt.show()\n",
    "biggest_donors[:10]\n"
   ]
  },
  {
   "cell_type": "code",
   "execution_count": 446,
   "metadata": {},
   "outputs": [],
   "source": [
    "biggest_recipients = df.groupby(['Recipient']).sum()['Value'].sort_values(ascending = False)\n"
   ]
  },
  {
   "cell_type": "code",
   "execution_count": 447,
   "metadata": {},
   "outputs": [
    {
     "data": {
      "text/html": [
       "<div>\n",
       "<style scoped>\n",
       "    .dataframe tbody tr th:only-of-type {\n",
       "        vertical-align: middle;\n",
       "    }\n",
       "\n",
       "    .dataframe tbody tr th {\n",
       "        vertical-align: top;\n",
       "    }\n",
       "\n",
       "    .dataframe thead th {\n",
       "        text-align: right;\n",
       "    }\n",
       "</style>\n",
       "<table border=\"1\" class=\"dataframe\">\n",
       "  <thead>\n",
       "    <tr style=\"text-align: right;\">\n",
       "      <th></th>\n",
       "      <th>Year</th>\n",
       "      <th>Value</th>\n",
       "      <th>gdp</th>\n",
       "      <th>pop</th>\n",
       "      <th>openness</th>\n",
       "      <th>chn_aid</th>\n",
       "      <th>unsc</th>\n",
       "    </tr>\n",
       "  </thead>\n",
       "  <tbody>\n",
       "    <tr>\n",
       "      <th>Year</th>\n",
       "      <td>1.000000</td>\n",
       "      <td>0.105285</td>\n",
       "      <td>0.275990</td>\n",
       "      <td>0.022315</td>\n",
       "      <td>0.051014</td>\n",
       "      <td>0.163516</td>\n",
       "      <td>0.021142</td>\n",
       "    </tr>\n",
       "    <tr>\n",
       "      <th>Value</th>\n",
       "      <td>0.105285</td>\n",
       "      <td>1.000000</td>\n",
       "      <td>-0.047821</td>\n",
       "      <td>0.412737</td>\n",
       "      <td>-0.118941</td>\n",
       "      <td>0.022642</td>\n",
       "      <td>0.060304</td>\n",
       "    </tr>\n",
       "    <tr>\n",
       "      <th>gdp</th>\n",
       "      <td>0.275990</td>\n",
       "      <td>-0.047821</td>\n",
       "      <td>1.000000</td>\n",
       "      <td>-0.047686</td>\n",
       "      <td>0.186558</td>\n",
       "      <td>0.001817</td>\n",
       "      <td>0.084854</td>\n",
       "    </tr>\n",
       "    <tr>\n",
       "      <th>pop</th>\n",
       "      <td>0.022315</td>\n",
       "      <td>0.412737</td>\n",
       "      <td>-0.047686</td>\n",
       "      <td>1.000000</td>\n",
       "      <td>-0.196182</td>\n",
       "      <td>0.020648</td>\n",
       "      <td>0.089304</td>\n",
       "    </tr>\n",
       "    <tr>\n",
       "      <th>openness</th>\n",
       "      <td>0.051014</td>\n",
       "      <td>-0.118941</td>\n",
       "      <td>0.186558</td>\n",
       "      <td>-0.196182</td>\n",
       "      <td>1.000000</td>\n",
       "      <td>-0.048411</td>\n",
       "      <td>-0.087607</td>\n",
       "    </tr>\n",
       "    <tr>\n",
       "      <th>chn_aid</th>\n",
       "      <td>0.163516</td>\n",
       "      <td>0.022642</td>\n",
       "      <td>0.001817</td>\n",
       "      <td>0.020648</td>\n",
       "      <td>-0.048411</td>\n",
       "      <td>1.000000</td>\n",
       "      <td>-0.022321</td>\n",
       "    </tr>\n",
       "    <tr>\n",
       "      <th>unsc</th>\n",
       "      <td>0.021142</td>\n",
       "      <td>0.060304</td>\n",
       "      <td>0.084854</td>\n",
       "      <td>0.089304</td>\n",
       "      <td>-0.087607</td>\n",
       "      <td>-0.022321</td>\n",
       "      <td>1.000000</td>\n",
       "    </tr>\n",
       "  </tbody>\n",
       "</table>\n",
       "</div>"
      ],
      "text/plain": [
       "              Year     Value       gdp       pop  openness   chn_aid      unsc\n",
       "Year      1.000000  0.105285  0.275990  0.022315  0.051014  0.163516  0.021142\n",
       "Value     0.105285  1.000000 -0.047821  0.412737 -0.118941  0.022642  0.060304\n",
       "gdp       0.275990 -0.047821  1.000000 -0.047686  0.186558  0.001817  0.084854\n",
       "pop       0.022315  0.412737 -0.047686  1.000000 -0.196182  0.020648  0.089304\n",
       "openness  0.051014 -0.118941  0.186558 -0.196182  1.000000 -0.048411 -0.087607\n",
       "chn_aid   0.163516  0.022642  0.001817  0.020648 -0.048411  1.000000 -0.022321\n",
       "unsc      0.021142  0.060304  0.084854  0.089304 -0.087607 -0.022321  1.000000"
      ]
     },
     "execution_count": 447,
     "metadata": {},
     "output_type": "execute_result"
    }
   ],
   "source": [
    "df[df['Donor'] == 'Germany'].corr()"
   ]
  },
  {
   "cell_type": "code",
   "execution_count": 448,
   "metadata": {},
   "outputs": [],
   "source": [
    "#Removing Missing values and then checking these observations again \n",
    "total_missing_values = df.isna().sum()\n",
    "df.dropna(inplace  = True)"
   ]
  },
  {
   "cell_type": "code",
   "execution_count": 449,
   "metadata": {},
   "outputs": [
    {
     "data": {
      "text/plain": [
       "(107064, 11)"
      ]
     },
     "execution_count": 449,
     "metadata": {},
     "output_type": "execute_result"
    }
   ],
   "source": [
    "df.shape"
   ]
  },
  {
   "cell_type": "code",
   "execution_count": 450,
   "metadata": {},
   "outputs": [
    {
     "data": {
      "text/html": [
       "<div>\n",
       "<style scoped>\n",
       "    .dataframe tbody tr th:only-of-type {\n",
       "        vertical-align: middle;\n",
       "    }\n",
       "\n",
       "    .dataframe tbody tr th {\n",
       "        vertical-align: top;\n",
       "    }\n",
       "\n",
       "    .dataframe thead th {\n",
       "        text-align: right;\n",
       "    }\n",
       "</style>\n",
       "<table border=\"1\" class=\"dataframe\">\n",
       "  <thead>\n",
       "    <tr style=\"text-align: right;\">\n",
       "      <th></th>\n",
       "      <th>Year</th>\n",
       "      <th>Value</th>\n",
       "      <th>gdp</th>\n",
       "      <th>pop</th>\n",
       "      <th>openness</th>\n",
       "      <th>chn_aid</th>\n",
       "      <th>unsc</th>\n",
       "    </tr>\n",
       "  </thead>\n",
       "  <tbody>\n",
       "    <tr>\n",
       "      <th>Year</th>\n",
       "      <td>1.000000</td>\n",
       "      <td>-0.025326</td>\n",
       "      <td>0.304603</td>\n",
       "      <td>0.012463</td>\n",
       "      <td>0.051109</td>\n",
       "      <td>0.158836</td>\n",
       "      <td>-0.018202</td>\n",
       "    </tr>\n",
       "    <tr>\n",
       "      <th>Value</th>\n",
       "      <td>-0.025326</td>\n",
       "      <td>1.000000</td>\n",
       "      <td>-0.114222</td>\n",
       "      <td>0.189827</td>\n",
       "      <td>-0.147254</td>\n",
       "      <td>0.045580</td>\n",
       "      <td>0.012518</td>\n",
       "    </tr>\n",
       "    <tr>\n",
       "      <th>gdp</th>\n",
       "      <td>0.304603</td>\n",
       "      <td>-0.114222</td>\n",
       "      <td>1.000000</td>\n",
       "      <td>-0.071682</td>\n",
       "      <td>0.256829</td>\n",
       "      <td>-0.007961</td>\n",
       "      <td>0.095778</td>\n",
       "    </tr>\n",
       "    <tr>\n",
       "      <th>pop</th>\n",
       "      <td>0.012463</td>\n",
       "      <td>0.189827</td>\n",
       "      <td>-0.071682</td>\n",
       "      <td>1.000000</td>\n",
       "      <td>-0.218335</td>\n",
       "      <td>0.011002</td>\n",
       "      <td>0.064560</td>\n",
       "    </tr>\n",
       "    <tr>\n",
       "      <th>openness</th>\n",
       "      <td>0.051109</td>\n",
       "      <td>-0.147254</td>\n",
       "      <td>0.256829</td>\n",
       "      <td>-0.218335</td>\n",
       "      <td>1.000000</td>\n",
       "      <td>-0.059703</td>\n",
       "      <td>-0.079819</td>\n",
       "    </tr>\n",
       "    <tr>\n",
       "      <th>chn_aid</th>\n",
       "      <td>0.158836</td>\n",
       "      <td>0.045580</td>\n",
       "      <td>-0.007961</td>\n",
       "      <td>0.011002</td>\n",
       "      <td>-0.059703</td>\n",
       "      <td>1.000000</td>\n",
       "      <td>-0.031855</td>\n",
       "    </tr>\n",
       "    <tr>\n",
       "      <th>unsc</th>\n",
       "      <td>-0.018202</td>\n",
       "      <td>0.012518</td>\n",
       "      <td>0.095778</td>\n",
       "      <td>0.064560</td>\n",
       "      <td>-0.079819</td>\n",
       "      <td>-0.031855</td>\n",
       "      <td>1.000000</td>\n",
       "    </tr>\n",
       "  </tbody>\n",
       "</table>\n",
       "</div>"
      ],
      "text/plain": [
       "              Year     Value       gdp       pop  openness   chn_aid      unsc\n",
       "Year      1.000000 -0.025326  0.304603  0.012463  0.051109  0.158836 -0.018202\n",
       "Value    -0.025326  1.000000 -0.114222  0.189827 -0.147254  0.045580  0.012518\n",
       "gdp       0.304603 -0.114222  1.000000 -0.071682  0.256829 -0.007961  0.095778\n",
       "pop       0.012463  0.189827 -0.071682  1.000000 -0.218335  0.011002  0.064560\n",
       "openness  0.051109 -0.147254  0.256829 -0.218335  1.000000 -0.059703 -0.079819\n",
       "chn_aid   0.158836  0.045580 -0.007961  0.011002 -0.059703  1.000000 -0.031855\n",
       "unsc     -0.018202  0.012518  0.095778  0.064560 -0.079819 -0.031855  1.000000"
      ]
     },
     "execution_count": 450,
     "metadata": {},
     "output_type": "execute_result"
    }
   ],
   "source": [
    "biggest_donors = df.groupby(['Donor']).sum()['Value'].sort_values(ascending = False)\n",
    "biggest_donors\n",
    "\n",
    "biggest_recipients = df.groupby(['Recipient']).sum()['Value'].sort_values(ascending = False)\n",
    "biggest_recipients\n",
    "\n",
    "df[df['Donor'] == 'United Kingdom'].corr()\n",
    "\n",
    "# There is no such difference in the correlation after droping the missing values.\n",
    "\n"
   ]
  },
  {
   "cell_type": "code",
   "execution_count": 451,
   "metadata": {},
   "outputs": [
    {
     "data": {
      "text/html": [
       "<div>\n",
       "<style scoped>\n",
       "    .dataframe tbody tr th:only-of-type {\n",
       "        vertical-align: middle;\n",
       "    }\n",
       "\n",
       "    .dataframe tbody tr th {\n",
       "        vertical-align: top;\n",
       "    }\n",
       "\n",
       "    .dataframe thead th {\n",
       "        text-align: right;\n",
       "    }\n",
       "</style>\n",
       "<table border=\"1\" class=\"dataframe\">\n",
       "  <thead>\n",
       "    <tr style=\"text-align: right;\">\n",
       "      <th></th>\n",
       "      <th>Year</th>\n",
       "      <th>Value</th>\n",
       "      <th>gdp</th>\n",
       "      <th>pop</th>\n",
       "      <th>openness</th>\n",
       "      <th>chn_aid</th>\n",
       "      <th>unsc</th>\n",
       "    </tr>\n",
       "  </thead>\n",
       "  <tbody>\n",
       "    <tr>\n",
       "      <th>Year</th>\n",
       "      <td>1.000000</td>\n",
       "      <td>-0.005280</td>\n",
       "      <td>0.242653</td>\n",
       "      <td>-0.002492</td>\n",
       "      <td>0.039283</td>\n",
       "      <td>0.104889</td>\n",
       "      <td>0.020275</td>\n",
       "    </tr>\n",
       "    <tr>\n",
       "      <th>Value</th>\n",
       "      <td>-0.005280</td>\n",
       "      <td>1.000000</td>\n",
       "      <td>-0.132745</td>\n",
       "      <td>0.188549</td>\n",
       "      <td>-0.131229</td>\n",
       "      <td>0.042884</td>\n",
       "      <td>0.012290</td>\n",
       "    </tr>\n",
       "    <tr>\n",
       "      <th>gdp</th>\n",
       "      <td>0.242653</td>\n",
       "      <td>-0.132745</td>\n",
       "      <td>1.000000</td>\n",
       "      <td>-0.060270</td>\n",
       "      <td>0.165550</td>\n",
       "      <td>0.001826</td>\n",
       "      <td>0.098464</td>\n",
       "    </tr>\n",
       "    <tr>\n",
       "      <th>pop</th>\n",
       "      <td>-0.002492</td>\n",
       "      <td>0.188549</td>\n",
       "      <td>-0.060270</td>\n",
       "      <td>1.000000</td>\n",
       "      <td>-0.202760</td>\n",
       "      <td>0.004982</td>\n",
       "      <td>0.092751</td>\n",
       "    </tr>\n",
       "    <tr>\n",
       "      <th>openness</th>\n",
       "      <td>0.039283</td>\n",
       "      <td>-0.131229</td>\n",
       "      <td>0.165550</td>\n",
       "      <td>-0.202760</td>\n",
       "      <td>1.000000</td>\n",
       "      <td>-0.043651</td>\n",
       "      <td>-0.093562</td>\n",
       "    </tr>\n",
       "    <tr>\n",
       "      <th>chn_aid</th>\n",
       "      <td>0.104889</td>\n",
       "      <td>0.042884</td>\n",
       "      <td>0.001826</td>\n",
       "      <td>0.004982</td>\n",
       "      <td>-0.043651</td>\n",
       "      <td>1.000000</td>\n",
       "      <td>-0.019965</td>\n",
       "    </tr>\n",
       "    <tr>\n",
       "      <th>unsc</th>\n",
       "      <td>0.020275</td>\n",
       "      <td>0.012290</td>\n",
       "      <td>0.098464</td>\n",
       "      <td>0.092751</td>\n",
       "      <td>-0.093562</td>\n",
       "      <td>-0.019965</td>\n",
       "      <td>1.000000</td>\n",
       "    </tr>\n",
       "  </tbody>\n",
       "</table>\n",
       "</div>"
      ],
      "text/plain": [
       "              Year     Value       gdp       pop  openness   chn_aid      unsc\n",
       "Year      1.000000 -0.005280  0.242653 -0.002492  0.039283  0.104889  0.020275\n",
       "Value    -0.005280  1.000000 -0.132745  0.188549 -0.131229  0.042884  0.012290\n",
       "gdp       0.242653 -0.132745  1.000000 -0.060270  0.165550  0.001826  0.098464\n",
       "pop      -0.002492  0.188549 -0.060270  1.000000 -0.202760  0.004982  0.092751\n",
       "openness  0.039283 -0.131229  0.165550 -0.202760  1.000000 -0.043651 -0.093562\n",
       "chn_aid   0.104889  0.042884  0.001826  0.004982 -0.043651  1.000000 -0.019965\n",
       "unsc      0.020275  0.012290  0.098464  0.092751 -0.093562 -0.019965  1.000000"
      ]
     },
     "execution_count": 451,
     "metadata": {},
     "output_type": "execute_result"
    }
   ],
   "source": [
    "#Replacing missing values with mean\n",
    "df = pd.read_csv(\"combine.csv\")\n",
    "df['chn_aid'] = df['chn_aid'].fillna(df['chn_aid'].mean())\n",
    "df['gdp'] = df['gdp'].fillna(df['gdp'].mean())\n",
    "df['pop'] = df['pop'].fillna(df['pop'].mean())\n",
    "df['openness'] = df['openness'].fillna(df['openness'].mean())\n",
    "\n",
    "df[df['Donor'] == 'United Kingdom'].corr()\n",
    "\n",
    "#There is no such difference in the correlation between ODA top countries values and china aid after replacing the\n",
    "#missing values with mean.\n"
   ]
  },
  {
   "cell_type": "code",
   "execution_count": 452,
   "metadata": {},
   "outputs": [
    {
     "name": "stdout",
     "output_type": "stream",
     "text": [
      "(21754, 11)\n"
     ]
    },
    {
     "data": {
      "image/png": "[encoded data removed]",
      "text/plain": [
       "<Figure size 576x396 with 1 Axes>"
      ]
     },
     "metadata": {},
     "output_type": "display_data"
    },
    {
     "data": {
      "text/html": [
       "<div>\n",
       "<style scoped>\n",
       "    .dataframe tbody tr th:only-of-type {\n",
       "        vertical-align: middle;\n",
       "    }\n",
       "\n",
       "    .dataframe tbody tr th {\n",
       "        vertical-align: top;\n",
       "    }\n",
       "\n",
       "    .dataframe thead th {\n",
       "        text-align: right;\n",
       "    }\n",
       "</style>\n",
       "<table border=\"1\" class=\"dataframe\">\n",
       "  <thead>\n",
       "    <tr style=\"text-align: right;\">\n",
       "      <th></th>\n",
       "      <th>Year</th>\n",
       "      <th>Value</th>\n",
       "      <th>gdp</th>\n",
       "      <th>pop</th>\n",
       "      <th>openness</th>\n",
       "      <th>chn_aid</th>\n",
       "      <th>unsc</th>\n",
       "    </tr>\n",
       "  </thead>\n",
       "  <tbody>\n",
       "    <tr>\n",
       "      <th>Year</th>\n",
       "      <td>1.000000</td>\n",
       "      <td>0.036072</td>\n",
       "      <td>0.290381</td>\n",
       "      <td>0.016116</td>\n",
       "      <td>0.059138</td>\n",
       "      <td>0.159398</td>\n",
       "      <td>-0.025944</td>\n",
       "    </tr>\n",
       "    <tr>\n",
       "      <th>Value</th>\n",
       "      <td>0.036072</td>\n",
       "      <td>1.000000</td>\n",
       "      <td>-0.079567</td>\n",
       "      <td>0.208928</td>\n",
       "      <td>-0.074695</td>\n",
       "      <td>0.009336</td>\n",
       "      <td>0.028191</td>\n",
       "    </tr>\n",
       "    <tr>\n",
       "      <th>gdp</th>\n",
       "      <td>0.290381</td>\n",
       "      <td>-0.079567</td>\n",
       "      <td>1.000000</td>\n",
       "      <td>-0.077180</td>\n",
       "      <td>0.267206</td>\n",
       "      <td>-0.008738</td>\n",
       "      <td>0.064659</td>\n",
       "    </tr>\n",
       "    <tr>\n",
       "      <th>pop</th>\n",
       "      <td>0.016116</td>\n",
       "      <td>0.208928</td>\n",
       "      <td>-0.077180</td>\n",
       "      <td>1.000000</td>\n",
       "      <td>-0.210603</td>\n",
       "      <td>0.015226</td>\n",
       "      <td>0.066544</td>\n",
       "    </tr>\n",
       "    <tr>\n",
       "      <th>openness</th>\n",
       "      <td>0.059138</td>\n",
       "      <td>-0.074695</td>\n",
       "      <td>0.267206</td>\n",
       "      <td>-0.210603</td>\n",
       "      <td>1.000000</td>\n",
       "      <td>-0.051627</td>\n",
       "      <td>-0.073510</td>\n",
       "    </tr>\n",
       "    <tr>\n",
       "      <th>chn_aid</th>\n",
       "      <td>0.159398</td>\n",
       "      <td>0.009336</td>\n",
       "      <td>-0.008738</td>\n",
       "      <td>0.015226</td>\n",
       "      <td>-0.051627</td>\n",
       "      <td>1.000000</td>\n",
       "      <td>-0.026191</td>\n",
       "    </tr>\n",
       "    <tr>\n",
       "      <th>unsc</th>\n",
       "      <td>-0.025944</td>\n",
       "      <td>0.028191</td>\n",
       "      <td>0.064659</td>\n",
       "      <td>0.066544</td>\n",
       "      <td>-0.073510</td>\n",
       "      <td>-0.026191</td>\n",
       "      <td>1.000000</td>\n",
       "    </tr>\n",
       "  </tbody>\n",
       "</table>\n",
       "</div>"
      ],
      "text/plain": [
       "              Year     Value       gdp       pop  openness   chn_aid      unsc\n",
       "Year      1.000000  0.036072  0.290381  0.016116  0.059138  0.159398 -0.025944\n",
       "Value     0.036072  1.000000 -0.079567  0.208928 -0.074695  0.009336  0.028191\n",
       "gdp       0.290381 -0.079567  1.000000 -0.077180  0.267206 -0.008738  0.064659\n",
       "pop       0.016116  0.208928 -0.077180  1.000000 -0.210603  0.015226  0.066544\n",
       "openness  0.059138 -0.074695  0.267206 -0.210603  1.000000 -0.051627 -0.073510\n",
       "chn_aid   0.159398  0.009336 -0.008738  0.015226 -0.051627  1.000000 -0.026191\n",
       "unsc     -0.025944  0.028191  0.064659  0.066544 -0.073510 -0.026191  1.000000"
      ]
     },
     "execution_count": 452,
     "metadata": {},
     "output_type": "execute_result"
    }
   ],
   "source": [
    "#This indicates that there may be Omitted varaince bais in the dataset because we have not yet considered the control variables\n",
    "# Therefore we now apply the regression analysis by adding the control variables as well.\n",
    "df = pd.read_csv(\"combine.csv\")\n",
    "df.dropna(inplace  = True)\n",
    "\n",
    "import matplotlib.pyplot as plt\n",
    "%matplotlib inline\n",
    "plt.style.use('seaborn')\n",
    "\n",
    "top_countries  = df[(df['Donor'] == 'United States') | (df['Donor'] == 'United Kingdom') | (df['Donor'] == 'Germany') | (df['Donor'] == 'Japan') ]\n",
    "\n",
    "print(top_countries.shape)\n",
    "top_countries.plot(x='chn_aid', y='Value', kind='scatter')\n",
    "plt.show()\n",
    "top_countries.corr()\n"
   ]
  },
  {
   "cell_type": "code",
   "execution_count": 453,
   "metadata": {},
   "outputs": [
    {
     "data": {
      "text/plain": [
       "statsmodels.regression.linear_model.OLS"
      ]
     },
     "execution_count": 453,
     "metadata": {},
     "output_type": "execute_result"
    }
   ],
   "source": [
    "import statsmodels.api as sm\n",
    "\n",
    "reg1 = sm.OLS(endog=top_countries['Value'], exog=top_countries[['chn_aid', 'pop', 'gdp', 'openness']], missing='drop')\n",
    "type(reg1)"
   ]
  },
  {
   "cell_type": "code",
   "execution_count": 454,
   "metadata": {},
   "outputs": [
    {
     "data": {
      "text/plain": [
       "statsmodels.regression.linear_model.RegressionResultsWrapper"
      ]
     },
     "execution_count": 454,
     "metadata": {},
     "output_type": "execute_result"
    }
   ],
   "source": [
    "results = reg1.fit()\n",
    "type(results)"
   ]
  },
  {
   "cell_type": "code",
   "execution_count": 455,
   "metadata": {},
   "outputs": [
    {
     "data": {
      "image/png": "[encoded data removed]",
      "text/plain": [
       "<Figure size 576x396 with 1 Axes>"
      ]
     },
     "metadata": {},
     "output_type": "display_data"
    }
   ],
   "source": [
    "fix, ax = plt.subplots()\n",
    "ax.scatter(top_countries['chn_aid'], results.predict(), alpha=0.4, label='predicted')\n",
    "\n",
    "# Plot observed values\n",
    "\n",
    "ax.scatter(top_countries['chn_aid'], top_countries['Value'], alpha=0.8, label='observed')\n",
    "\n",
    "ax.legend()\n",
    "ax.set_title('OLS predicted values')\n",
    "ax.set_xlabel('chn_aid')\n",
    "ax.set_ylabel('Value')\n",
    "plt.show()\n",
    "\n",
    "#This does not caters the time series lags therefore the predicted values remain same throughout. \n"
   ]
  },
  {
   "cell_type": "code",
   "execution_count": 456,
   "metadata": {},
   "outputs": [
    {
     "data": {
      "image/png": "[encoded data removed]",
      "text/plain": [
       "<Figure size 576x396 with 1 Axes>"
      ]
     },
     "metadata": {},
     "output_type": "display_data"
    },
    {
     "data": {
      "image/png": "[encoded data removed]",
      "text/plain": [
       "<Figure size 576x396 with 1 Axes>"
      ]
     },
     "metadata": {},
     "output_type": "display_data"
    },
    {
     "data": {
      "image/png": "[encoded data removed]",
      "text/plain": [
       "<Figure size 576x396 with 1 Axes>"
      ]
     },
     "metadata": {},
     "output_type": "display_data"
    },
    {
     "data": {
      "image/png": "[encoded data removed]",
      "text/plain": [
       "<Figure size 576x396 with 1 Axes>"
      ]
     },
     "metadata": {},
     "output_type": "display_data"
    },
    {
     "data": {
      "text/plain": [
       "Text(0.5, 1.0, 'China Aid per year')"
      ]
     },
     "execution_count": 456,
     "metadata": {},
     "output_type": "execute_result"
    },
    {
     "data": {
      "image/png": "[encoded data removed]",
      "text/plain": [
       "<Figure size 576x396 with 1 Axes>"
      ]
     },
     "metadata": {},
     "output_type": "display_data"
    }
   ],
   "source": [
    "#This chunk of code visually explains how the OED countries - UK, US, Germany and Japan have contributed over the year\n",
    "# vs how the china has contributed.\n",
    "\n",
    "top_countries_usa = top_countries[top_countries.iloc[:, 1] == 'United States']\n",
    "top_countries_usa  = top_countries_usa[['Year', 'Value']]\n",
    "\n",
    "x = list(top_countries_usa.groupby(['Year']).sum().index)\n",
    "y = top_countries_usa.groupby(['Year']).sum().values.tolist()\n",
    "\n",
    "flat_list = []\n",
    "for sublist in y:\n",
    "    for item in sublist:\n",
    "        flat_list.append(item)\n",
    "        \n",
    "plt.bar(x,flat_list)\n",
    "plt.title('USA Values per year')\n",
    "plt.show()\n",
    "\n",
    "\n",
    "\n",
    "top_countries_usa = top_countries[top_countries.iloc[:, 1] == 'United Kingdom']\n",
    "top_countries_usa  = top_countries_usa[['Year', 'Value']]\n",
    "\n",
    "x = list(top_countries_usa.groupby(['Year']).sum().index)\n",
    "y = top_countries_usa.groupby(['Year']).sum().values.tolist()\n",
    "\n",
    "flat_list = []\n",
    "for sublist in y:\n",
    "    for item in sublist:\n",
    "        flat_list.append(item)\n",
    "        \n",
    "plt.bar(x,flat_list)\n",
    "plt.title('UK Values per year')\n",
    "plt.show()\n",
    "\n",
    "\n",
    "top_countries_usa = top_countries[top_countries.iloc[:, 1] == 'Germany']\n",
    "top_countries_usa  = top_countries_usa[['Year', 'Value']]\n",
    "\n",
    "x = list(top_countries_usa.groupby(['Year']).sum().index)\n",
    "y = top_countries_usa.groupby(['Year']).sum().values.tolist()\n",
    "\n",
    "flat_list = []\n",
    "for sublist in y:\n",
    "    for item in sublist:\n",
    "        flat_list.append(item)\n",
    "        \n",
    "plt.bar(x,flat_list)\n",
    "plt.title('Germany Values per year')\n",
    "plt.show()\n",
    "\n",
    "\n",
    "top_countries_usa = top_countries[top_countries.iloc[:, 1] == 'Japan']\n",
    "top_countries_usa  = top_countries_usa[['Year', 'Value']]\n",
    "\n",
    "x = list(top_countries_usa.groupby(['Year']).sum().index)\n",
    "y = top_countries_usa.groupby(['Year']).sum().values.tolist()\n",
    "\n",
    "flat_list = []\n",
    "for sublist in y:\n",
    "    for item in sublist:\n",
    "        flat_list.append(item)\n",
    "        \n",
    "plt.bar(x,flat_list)\n",
    "plt.title('Japan Values per year')\n",
    "plt.show()\n",
    "\n",
    "\n",
    "df_china  = df[['Year', 'chn_aid']]\n",
    "\n",
    "x = list(df_china.groupby(['Year']).sum().index)\n",
    "y = df_china.groupby(['Year']).sum().values.tolist()\n",
    "\n",
    "flat_list = []\n",
    "for sublist in y:\n",
    "    for item in sublist:\n",
    "        flat_list.append(item)\n",
    "        \n",
    "plt.bar(x,flat_list)\n",
    "plt.title('China Aid per year')\n",
    "#plt.show()"
   ]
  },
  {
   "cell_type": "code",
   "execution_count": 457,
   "metadata": {},
   "outputs": [],
   "source": [
    "#This chunk of code explains that there isn't much correlation between the china aid and other countries but\n",
    "#The control variable opennness has pretty good effect as we can see that the intercept of openness is 0.4565 and it is \n",
    "#negatively correlated with the dependent variable.\n",
    "\n",
    "\n",
    "import numpy as np\n",
    "from statsmodels.datasets import grunfeld\n",
    "data = grunfeld.load_pandas().data\n",
    "data.year = data.year.astype(np.int64)\n",
    "# MultiIndex, entity - time\n",
    "#data = data.set_index(['firm','year'])\n",
    "top_countries = top_countries.set_index(['Donor', 'Year'])\n",
    "from linearmodels import PanelOLS\n",
    "openness = np.log(df['openness'])\n",
    "mod = PanelOLS(top_countries.Value, top_countries[['chn_aid', 'openness']], entity_effects=True)\n",
    "res = mod.fit(cov_type='clustered', cluster_entity=True)"
   ]
  },
  {
   "cell_type": "code",
   "execution_count": 458,
   "metadata": {},
   "outputs": [],
   "source": [
    "#Panel OLS including the within - fixed effect -  and between - Averaging over the multiple years - analysis.\n",
    "\n",
    "import statsmodels.formula.api as smf\n",
    "#dat = sm.datasets.get_rdataset(\"Guerry\", \"HistData\").data\n",
    "results = smf.ols('Value ~ chn_aid + np.log(openness)', data=top_countries).fit()"
   ]
  },
  {
   "cell_type": "code",
   "execution_count": 459,
   "metadata": {},
   "outputs": [
    {
     "data": {
      "text/html": [
       "<div>\n",
       "<style scoped>\n",
       "    .dataframe tbody tr th:only-of-type {\n",
       "        vertical-align: middle;\n",
       "    }\n",
       "\n",
       "    .dataframe tbody tr th {\n",
       "        vertical-align: top;\n",
       "    }\n",
       "\n",
       "    .dataframe thead th {\n",
       "        text-align: right;\n",
       "    }\n",
       "</style>\n",
       "<table border=\"1\" class=\"dataframe\">\n",
       "  <thead>\n",
       "    <tr style=\"text-align: right;\">\n",
       "      <th></th>\n",
       "      <th>Value</th>\n",
       "      <th>gdp</th>\n",
       "      <th>pop</th>\n",
       "      <th>openness</th>\n",
       "      <th>chn_aid</th>\n",
       "      <th>unsc</th>\n",
       "    </tr>\n",
       "  </thead>\n",
       "  <tbody>\n",
       "    <tr>\n",
       "      <th>Value</th>\n",
       "      <td>1.000000</td>\n",
       "      <td>-0.050219</td>\n",
       "      <td>0.236038</td>\n",
       "      <td>0.086489</td>\n",
       "      <td>0.020238</td>\n",
       "      <td>0.031888</td>\n",
       "    </tr>\n",
       "    <tr>\n",
       "      <th>gdp</th>\n",
       "      <td>-0.050219</td>\n",
       "      <td>1.000000</td>\n",
       "      <td>0.011571</td>\n",
       "      <td>0.403161</td>\n",
       "      <td>0.021022</td>\n",
       "      <td>0.102739</td>\n",
       "    </tr>\n",
       "    <tr>\n",
       "      <th>pop</th>\n",
       "      <td>0.236038</td>\n",
       "      <td>0.011571</td>\n",
       "      <td>1.000000</td>\n",
       "      <td>-0.007433</td>\n",
       "      <td>0.041865</td>\n",
       "      <td>0.086112</td>\n",
       "    </tr>\n",
       "    <tr>\n",
       "      <th>openness</th>\n",
       "      <td>0.086489</td>\n",
       "      <td>0.403161</td>\n",
       "      <td>-0.007433</td>\n",
       "      <td>1.000000</td>\n",
       "      <td>0.051251</td>\n",
       "      <td>-0.003239</td>\n",
       "    </tr>\n",
       "    <tr>\n",
       "      <th>chn_aid</th>\n",
       "      <td>0.020238</td>\n",
       "      <td>0.021022</td>\n",
       "      <td>0.041865</td>\n",
       "      <td>0.051251</td>\n",
       "      <td>1.000000</td>\n",
       "      <td>-0.015841</td>\n",
       "    </tr>\n",
       "    <tr>\n",
       "      <th>unsc</th>\n",
       "      <td>0.031888</td>\n",
       "      <td>0.102739</td>\n",
       "      <td>0.086112</td>\n",
       "      <td>-0.003239</td>\n",
       "      <td>-0.015841</td>\n",
       "      <td>1.000000</td>\n",
       "    </tr>\n",
       "  </tbody>\n",
       "</table>\n",
       "</div>"
      ],
      "text/plain": [
       "             Value       gdp       pop  openness   chn_aid      unsc\n",
       "Value     1.000000 -0.050219  0.236038  0.086489  0.020238  0.031888\n",
       "gdp      -0.050219  1.000000  0.011571  0.403161  0.021022  0.102739\n",
       "pop       0.236038  0.011571  1.000000 -0.007433  0.041865  0.086112\n",
       "openness  0.086489  0.403161 -0.007433  1.000000  0.051251 -0.003239\n",
       "chn_aid   0.020238  0.021022  0.041865  0.051251  1.000000 -0.015841\n",
       "unsc      0.031888  0.102739  0.086112 -0.003239 -0.015841  1.000000"
      ]
     },
     "execution_count": 459,
     "metadata": {},
     "output_type": "execute_result"
    }
   ],
   "source": [
    "#This is another way to analyze the correlation via the regression analysis using PARTIAL CORRELATIONS which is \n",
    "#checking the correlation betweeen the china aid and oed countries keeping the effect of other control variables constant\n",
    "#such as population, gdp and openness.\n",
    "\n",
    "import numpy as np\n",
    "from scipy import stats, linalg\n",
    "\n",
    "data  = top_countries[['Value','gdp', 'pop', 'openness', 'chn_aid','unsc']]\n",
    "C = np.asarray(data)\n",
    "p = C.shape[1]\n",
    "P_corr = np.zeros((p, p), dtype=np.float)\n",
    "for i in range(p):\n",
    "    P_corr[i, i] = 1\n",
    "    for j in range(i+1, p):\n",
    "        idx = np.ones(p, dtype=np.bool)\n",
    "        idx[i] = False\n",
    "        idx[j] = False\n",
    "        beta_i = linalg.lstsq(C[:, idx], C[:, j])[0]\n",
    "        beta_j = linalg.lstsq(C[:, idx], C[:, i])[0]\n",
    "\n",
    "        res_j = C[:, j] - C[:, idx].dot( beta_i)\n",
    "        res_i = C[:, i] - C[:, idx].dot(beta_j)\n",
    "\n",
    "        corr = stats.pearsonr(res_i, res_j)[0]\n",
    "        P_corr[i, j] = corr\n",
    "        P_corr[j, i] = corr\n",
    "        \n",
    "\n",
    "P_corr  =  pd.DataFrame(P_corr, columns = ['Value', 'gdp', 'pop','openness', 'chn_aid', 'unsc'], index = ['Value', 'gdp', 'pop','openness', 'chn_aid', 'unsc'])\n",
    "P_corr\n"
   ]
  },
  {
   "cell_type": "code",
   "execution_count": null,
   "metadata": {},
   "outputs": [],
   "source": []
  },
  {
   "cell_type": "code",
   "execution_count": null,
   "metadata": {},
   "outputs": [],
   "source": []
  },
  {
   "cell_type": "code",
   "execution_count": null,
   "metadata": {},
   "outputs": [],
   "source": []
  }
 ],
 "metadata": {
  "kernelspec": {
   "display_name": "Python 3",
   "language": "python",
   "name": "python3"
  },
  "language_info": {
   "codemirror_mode": {
    "name": "ipython",
    "version": 3
   },
   "file_extension": ".py",
   "mimetype": "text/x-python",
   "name": "python",
   "nbconvert_exporter": "python",
   "pygments_lexer": "ipython3",
   "version": "3.7.3"
  }
 },
 "nbformat": 4,
 "nbformat_minor": 2
}
